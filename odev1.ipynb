{
 "cells": [
  {
   "cell_type": "code",
   "execution_count": 1,
   "id": "059a05c2",
   "metadata": {},
   "outputs": [
    {
     "name": "stdout",
     "output_type": "stream",
     "text": [
      "Başarılı!\n"
     ]
    }
   ],
   "source": [
    "import cv2\n",
    "import numpy as np\n",
    "print(\"Başarılı!\")"
   ]
  },
  {
   "cell_type": "code",
   "execution_count": 2,
   "id": "b48c7187",
   "metadata": {},
   "outputs": [],
   "source": [
    "size = 500\n",
    "image = np.ones((size, size), dtype=np.uint8) * 255 "
   ]
  },
  {
   "cell_type": "code",
   "execution_count": 3,
   "id": "faa4f997",
   "metadata": {},
   "outputs": [],
   "source": [
    "color = 0  # İlk renk siyah\n",
    "for i in range(0, size // 2, 25):  # Her adımda içeri doğru 50px küçül\n",
    "    top_left = (i, i)\n",
    "    bottom_right = (size - i, size - i)\n",
    "    cv2.rectangle(image, top_left, bottom_right, color, -1)  # Dolu kare çiz\n",
    "    color = 255 if color == 0 else 0  # Siyah-beyaz değiştirme"
   ]
  },
  {
   "cell_type": "code",
   "execution_count": 4,
   "id": "e97ef882",
   "metadata": {},
   "outputs": [],
   "source": [
    "cv2.imshow(\"Kareler\", image)\n",
    "cv2.waitKey(0)\n",
    "cv2.destroyAllWindows()"
   ]
  }
 ],
 "metadata": {
  "kernelspec": {
   "display_name": "gametrick",
   "language": "python",
   "name": "gametrick"
  },
  "language_info": {
   "codemirror_mode": {
    "name": "ipython",
    "version": 3
   },
   "file_extension": ".py",
   "mimetype": "text/x-python",
   "name": "python",
   "nbconvert_exporter": "python",
   "pygments_lexer": "ipython3",
   "version": "3.7.12"
  }
 },
 "nbformat": 4,
 "nbformat_minor": 5
}
