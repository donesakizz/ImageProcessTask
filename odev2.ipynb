{
 "cells": [
  {
   "cell_type": "code",
   "execution_count": 10,
   "id": "145edb15",
   "metadata": {},
   "outputs": [
    {
     "name": "stdout",
     "output_type": "stream",
     "text": [
      "Defaulting to user installation because normal site-packages is not writeable\n",
      "Collecting scikit-learn\n",
      "  Downloading scikit_learn-1.0.2-cp37-cp37m-win_amd64.whl.metadata (10 kB)\n",
      "Requirement already satisfied: numpy>=1.14.6 in c:\\programdata\\anaconda3\\envs\\gametrick\\lib\\site-packages (from scikit-learn) (1.21.6)\n",
      "Requirement already satisfied: scipy>=1.1.0 in c:\\programdata\\anaconda3\\envs\\gametrick\\lib\\site-packages (from scikit-learn) (1.7.3)\n",
      "Collecting joblib>=0.11 (from scikit-learn)\n",
      "  Downloading joblib-1.3.2-py3-none-any.whl.metadata (5.4 kB)\n",
      "Collecting threadpoolctl>=2.0.0 (from scikit-learn)\n",
      "  Downloading threadpoolctl-3.1.0-py3-none-any.whl.metadata (9.2 kB)\n",
      "Downloading scikit_learn-1.0.2-cp37-cp37m-win_amd64.whl (7.1 MB)\n",
      "   ---------------------------------------- 7.1/7.1 MB 7.2 MB/s eta 0:00:00\n",
      "Downloading joblib-1.3.2-py3-none-any.whl (302 kB)\n",
      "   ---------------------------------------- 302.2/302.2 kB 6.2 MB/s eta 0:00:00\n",
      "Downloading threadpoolctl-3.1.0-py3-none-any.whl (14 kB)\n",
      "Installing collected packages: threadpoolctl, joblib, scikit-learn\n",
      "Successfully installed joblib-1.3.2 scikit-learn-1.0.2 threadpoolctl-3.1.0\n"
     ]
    }
   ],
   "source": [
    "!pip install scikit-learn\n"
   ]
  },
  {
   "cell_type": "code",
   "execution_count": 12,
   "id": "ed0defa7",
   "metadata": {},
   "outputs": [
    {
     "name": "stdout",
     "output_type": "stream",
     "text": [
      "Başarılı\n"
     ]
    }
   ],
   "source": [
    "import tensorflow as tf\n",
    "from tensorflow.keras.datasets import mnist\n",
    "from tensorflow.keras.models import Sequential\n",
    "from tensorflow.keras.layers import Dense, Flatten\n",
    "from sklearn.model_selection import train_test_split\n",
    "import numpy as np\n",
    "print(\"Başarılı\")"
   ]
  },
  {
   "cell_type": "code",
   "execution_count": 13,
   "id": "8ec36ee8",
   "metadata": {},
   "outputs": [
    {
     "name": "stdout",
     "output_type": "stream",
     "text": [
      "Downloading data from https://storage.googleapis.com/tensorflow/tf-keras-datasets/mnist.npz\n",
      "11490434/11490434 [==============================] - 3s 0us/step\n"
     ]
    }
   ],
   "source": [
    "# 1. MNIST veri setini yükle\n",
    "(x_train, y_train), (x_test, y_test) = mnist.load_data()"
   ]
  },
  {
   "cell_type": "code",
   "execution_count": 14,
   "id": "76398f61",
   "metadata": {},
   "outputs": [],
   "source": [
    "# 2. Verileri birleştirip %80 eğitim %20 test olarak yeniden böldüm\n",
    "X = np.concatenate((x_train, x_test))\n",
    "Y = np.concatenate((y_train, y_test))\n",
    "X = X / 255.0  # Normalizasyon\n"
   ]
  },
  {
   "cell_type": "code",
   "execution_count": 15,
   "id": "5e3ed366",
   "metadata": {},
   "outputs": [],
   "source": [
    "# 3. %80 eğitim, %20 test bölünür\n",
    "x_train, x_test, y_train, y_test = train_test_split(X, Y, test_size=0.2, random_state=42)"
   ]
  },
  {
   "cell_type": "code",
   "execution_count": 16,
   "id": "0685895b",
   "metadata": {},
   "outputs": [],
   "source": [
    "# 4. Model oluşturma kodu\n",
    "model = Sequential([\n",
    "    Flatten(input_shape=(28, 28)),   # 28x28 resmi tek boyuta çevirir\n",
    "    Dense(128, activation='relu'),  # İlk gizli katman\n",
    "    Dense(64, activation='relu'),   # İkinci gizli katman\n",
    "    Dense(10, activation='softmax') # Çıkış katmanı (0-9 sınıfları)\n",
    "])"
   ]
  },
  {
   "cell_type": "code",
   "execution_count": 17,
   "id": "9db9359c",
   "metadata": {},
   "outputs": [],
   "source": [
    "# 5. Modeli derleriz\n",
    "model.compile(optimizer='adam',\n",
    "              loss='sparse_categorical_crossentropy',\n",
    "              metrics=['accuracy'])"
   ]
  },
  {
   "cell_type": "code",
   "execution_count": 18,
   "id": "747d3cf8",
   "metadata": {},
   "outputs": [
    {
     "name": "stdout",
     "output_type": "stream",
     "text": [
      "Epoch 1/5\n",
      "1750/1750 [==============================] - 8s 4ms/step - loss: 0.2472 - accuracy: 0.9291 - val_loss: 0.1322 - val_accuracy: 0.9605\n",
      "Epoch 2/5\n",
      "1750/1750 [==============================] - 7s 4ms/step - loss: 0.1035 - accuracy: 0.9686 - val_loss: 0.1142 - val_accuracy: 0.9655\n",
      "Epoch 3/5\n",
      "1750/1750 [==============================] - 7s 4ms/step - loss: 0.0722 - accuracy: 0.9773 - val_loss: 0.0912 - val_accuracy: 0.9717\n",
      "Epoch 4/5\n",
      "1750/1750 [==============================] - 7s 4ms/step - loss: 0.0551 - accuracy: 0.9823 - val_loss: 0.0951 - val_accuracy: 0.9729\n",
      "Epoch 5/5\n",
      "1750/1750 [==============================] - 6s 4ms/step - loss: 0.0437 - accuracy: 0.9854 - val_loss: 0.1037 - val_accuracy: 0.9710\n"
     ]
    },
    {
     "data": {
      "text/plain": [
       "<keras.callbacks.History at 0x207b9d36d48>"
      ]
     },
     "execution_count": 18,
     "metadata": {},
     "output_type": "execute_result"
    }
   ],
   "source": [
    "# 6. Modeli eğitme ilgili kısım\n",
    "model.fit(x_train, y_train, epochs=5, validation_data=(x_test, y_test))"
   ]
  },
  {
   "cell_type": "code",
   "execution_count": 19,
   "id": "e908131c",
   "metadata": {},
   "outputs": [
    {
     "name": "stdout",
     "output_type": "stream",
     "text": [
      "438/438 [==============================] - 1s 3ms/step - loss: 0.1037 - accuracy: 0.9710\n",
      "Test doğruluk oranı: 0.9710000157356262\n"
     ]
    }
   ],
   "source": [
    "# 7. Modeli test etme ile ilgili kısım\n",
    "test_loss, test_acc = model.evaluate(x_test, y_test)\n",
    "print(\"Test doğruluk oranı:\", test_acc)"
   ]
  }
 ],
 "metadata": {
  "kernelspec": {
   "display_name": "gametrick",
   "language": "python",
   "name": "gametrick"
  },
  "language_info": {
   "codemirror_mode": {
    "name": "ipython",
    "version": 3
   },
   "file_extension": ".py",
   "mimetype": "text/x-python",
   "name": "python",
   "nbconvert_exporter": "python",
   "pygments_lexer": "ipython3",
   "version": "3.7.12"
  }
 },
 "nbformat": 4,
 "nbformat_minor": 5
}
